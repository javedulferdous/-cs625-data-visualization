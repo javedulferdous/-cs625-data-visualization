{
 "cells": [
  {
   "cell_type": "code",
   "execution_count": 1,
   "metadata": {},
   "outputs": [],
   "source": [
    "import pandas as pd\n",
    "\n",
    "raw_data = pd.read_csv (r'C:\\Users\\jafra\\OneDrive\\Desktop\\HW78\\unhcr-population-data-for-usa\\asylum_decisions_residing_usa.csv')\n",
    "president_file = pd.read_csv (r'C:\\Users\\jafra\\OneDrive\\Desktop\\HW78\\unhcr-population-data-for-usa\\us_presidents.csv')\n",
    "custom_frame = pd.DataFrame(raw_data, columns= ['Year','Country of Origin Name','Total Decided', 'Recognized','Complementary Protection','Rejected','Otherwise Closed'])\n",
    "president_frame = pd.DataFrame(president_file, columns= ['start','end','president','party'])\n",
    "\n",
    "a = president_file[president_file[\"president\"] == \"Barack Obama\"] \n",
    "b = president_file[president_file[\"president\"] == \"Donald Trump\"]\n",
    "c = president_file[president_file[\"president\"] == \"George W. Bush\"]"
   ]
  },
  {
   "cell_type": "code",
   "execution_count": 2,
   "metadata": {},
   "outputs": [
    {
     "data": {
      "text/html": [
       "<div>\n",
       "<style scoped>\n",
       "    .dataframe tbody tr th:only-of-type {\n",
       "        vertical-align: middle;\n",
       "    }\n",
       "\n",
       "    .dataframe tbody tr th {\n",
       "        vertical-align: top;\n",
       "    }\n",
       "\n",
       "    .dataframe thead th {\n",
       "        text-align: right;\n",
       "    }\n",
       "</style>\n",
       "<table border=\"1\" class=\"dataframe\">\n",
       "  <thead>\n",
       "    <tr style=\"text-align: right;\">\n",
       "      <th></th>\n",
       "      <th>Unnamed: 0</th>\n",
       "      <th>S.No.</th>\n",
       "      <th>start</th>\n",
       "      <th>end</th>\n",
       "      <th>president</th>\n",
       "      <th>prior</th>\n",
       "      <th>party</th>\n",
       "      <th>vice</th>\n",
       "    </tr>\n",
       "  </thead>\n",
       "  <tbody>\n",
       "    <tr>\n",
       "      <td>43</td>\n",
       "      <td>43</td>\n",
       "      <td>44</td>\n",
       "      <td>20-Jan-09</td>\n",
       "      <td>20-Jan-17</td>\n",
       "      <td>Barack Obama</td>\n",
       "      <td>U.S. Senator   ( Class 3 )   from  Illinois   ...</td>\n",
       "      <td>Democratic</td>\n",
       "      <td>Joe Biden</td>\n",
       "    </tr>\n",
       "    <tr>\n",
       "      <td>44</td>\n",
       "      <td>44</td>\n",
       "      <td>45</td>\n",
       "      <td>20-Jan-17</td>\n",
       "      <td>20-Jan-21</td>\n",
       "      <td>Donald Trump</td>\n",
       "      <td>Chairman of   The Trump Organization   ( 1971–...</td>\n",
       "      <td>Republican</td>\n",
       "      <td>Mike Pence</td>\n",
       "    </tr>\n",
       "    <tr>\n",
       "      <td>42</td>\n",
       "      <td>42</td>\n",
       "      <td>43</td>\n",
       "      <td>20-Jan-01</td>\n",
       "      <td>20-Jan-09</td>\n",
       "      <td>George W. Bush</td>\n",
       "      <td>46th  Governor of Texas   ( 1995–2000 )</td>\n",
       "      <td>Republican</td>\n",
       "      <td>Dick Cheney</td>\n",
       "    </tr>\n",
       "  </tbody>\n",
       "</table>\n",
       "</div>"
      ],
      "text/plain": [
       "    Unnamed: 0  S.No.      start        end       president  \\\n",
       "43          43     44  20-Jan-09  20-Jan-17    Barack Obama   \n",
       "44          44     45  20-Jan-17  20-Jan-21    Donald Trump   \n",
       "42          42     43  20-Jan-01  20-Jan-09  George W. Bush   \n",
       "\n",
       "                                                prior       party         vice  \n",
       "43  U.S. Senator   ( Class 3 )   from  Illinois   ...  Democratic    Joe Biden  \n",
       "44  Chairman of   The Trump Organization   ( 1971–...  Republican   Mike Pence  \n",
       "42            46th  Governor of Texas   ( 1995–2000 )  Republican  Dick Cheney  "
      ]
     },
     "execution_count": 2,
     "metadata": {},
     "output_type": "execute_result"
    }
   ],
   "source": [
    "final_df = pd.concat([a,b,c])\n",
    "final_df"
   ]
  },
  {
   "cell_type": "code",
   "execution_count": 3,
   "metadata": {},
   "outputs": [
    {
     "data": {
      "text/html": [
       "<div>\n",
       "<style scoped>\n",
       "    .dataframe tbody tr th:only-of-type {\n",
       "        vertical-align: middle;\n",
       "    }\n",
       "\n",
       "    .dataframe tbody tr th {\n",
       "        vertical-align: top;\n",
       "    }\n",
       "\n",
       "    .dataframe thead th {\n",
       "        text-align: right;\n",
       "    }\n",
       "</style>\n",
       "<table border=\"1\" class=\"dataframe\">\n",
       "  <thead>\n",
       "    <tr style=\"text-align: right;\">\n",
       "      <th></th>\n",
       "      <th>start</th>\n",
       "      <th>end</th>\n",
       "      <th>president</th>\n",
       "      <th>party</th>\n",
       "    </tr>\n",
       "  </thead>\n",
       "  <tbody>\n",
       "    <tr>\n",
       "      <td>43</td>\n",
       "      <td>2009</td>\n",
       "      <td>2016</td>\n",
       "      <td>Barack Obama</td>\n",
       "      <td>Democratic</td>\n",
       "    </tr>\n",
       "    <tr>\n",
       "      <td>44</td>\n",
       "      <td>2017</td>\n",
       "      <td>2020</td>\n",
       "      <td>Donald Trump</td>\n",
       "      <td>Republican</td>\n",
       "    </tr>\n",
       "    <tr>\n",
       "      <td>42</td>\n",
       "      <td>2001</td>\n",
       "      <td>2008</td>\n",
       "      <td>George W. Bush</td>\n",
       "      <td>Republican</td>\n",
       "    </tr>\n",
       "  </tbody>\n",
       "</table>\n",
       "</div>"
      ],
      "text/plain": [
       "   start   end       president       party\n",
       "43  2009  2016    Barack Obama  Democratic\n",
       "44  2017  2020    Donald Trump  Republican\n",
       "42  2001  2008  George W. Bush  Republican"
      ]
     },
     "execution_count": 3,
     "metadata": {},
     "output_type": "execute_result"
    }
   ],
   "source": [
    "final_df.loc[final_df['start'] == \"20-Jan-09\", 'start'] = \"2009\"\n",
    "final_df.loc[final_df['start'] == \"20-Jan-17\", 'start'] = \"2017\"\n",
    "final_df.loc[final_df['start'] == \"20-Jan-01\", 'start'] = \"2001\"\n",
    "\n",
    "final_df.loc[final_df['end'] == \"20-Jan-17\", 'end'] = \"2016\"\n",
    "final_df.loc[final_df['end'] == \"20-Jan-21\", 'end'] = \"2020\"\n",
    "final_df.loc[final_df['end'] == \"20-Jan-09\", 'end'] = \"2008\"\n",
    "\n",
    "president_frame = pd.DataFrame(final_df, columns= ['start','end','president','party'])\n",
    "\n",
    "president_frame"
   ]
  },
  {
   "cell_type": "code",
   "execution_count": 4,
   "metadata": {},
   "outputs": [],
   "source": [
    "custom_frame.loc[custom_frame['Year'] == 2000, 'president'] = \"Bill Clinton\""
   ]
  },
  {
   "cell_type": "markdown",
   "metadata": {},
   "source": [
    "#### Reign of George W. Bush\t"
   ]
  },
  {
   "cell_type": "code",
   "execution_count": 5,
   "metadata": {},
   "outputs": [],
   "source": [
    "custom_frame.loc[custom_frame['Year'] == 2001, 'president'] = \"George W. Bush\"\n",
    "custom_frame.loc[custom_frame['Year'] == 2002, 'president'] = \"George W. Bush\"\n",
    "custom_frame.loc[custom_frame['Year'] == 2003, 'president'] = \"George W. Bush\"\n",
    "custom_frame.loc[custom_frame['Year'] == 2004, 'president'] = \"George W. Bush\"\n",
    "custom_frame.loc[custom_frame['Year'] == 2005, 'president'] = \"George W. Bush\"\n",
    "custom_frame.loc[custom_frame['Year'] == 2006, 'president'] = \"George W. Bush\"\n",
    "custom_frame.loc[custom_frame['Year'] == 2007, 'president'] = \"George W. Bush\"\n",
    "custom_frame.loc[custom_frame['Year'] == 2008, 'president'] = \"George W. Bush\""
   ]
  },
  {
   "cell_type": "markdown",
   "metadata": {},
   "source": [
    "#### Reign of Barack Obama"
   ]
  },
  {
   "cell_type": "code",
   "execution_count": 6,
   "metadata": {},
   "outputs": [],
   "source": [
    "custom_frame.loc[custom_frame['Year'] == 2009, 'president'] = \"Barack Obama\"\n",
    "custom_frame.loc[custom_frame['Year'] == 2010, 'president'] = \"Barack Obama\"\n",
    "custom_frame.loc[custom_frame['Year'] == 2011, 'president'] = \"Barack Obama\"\n",
    "custom_frame.loc[custom_frame['Year'] == 2012, 'president'] = \"Barack Obama\"\n",
    "custom_frame.loc[custom_frame['Year'] == 2013, 'president'] = \"Barack Obama\"\n",
    "custom_frame.loc[custom_frame['Year'] == 2014, 'president'] = \"Barack Obama\"\n",
    "custom_frame.loc[custom_frame['Year'] == 2015, 'president'] = \"Barack Obama\"\n",
    "custom_frame.loc[custom_frame['Year'] == 2016, 'president'] = \"Barack Obama\""
   ]
  },
  {
   "cell_type": "markdown",
   "metadata": {},
   "source": [
    "#### Reign of Donald Trump"
   ]
  },
  {
   "cell_type": "code",
   "execution_count": 7,
   "metadata": {},
   "outputs": [],
   "source": [
    "custom_frame.loc[custom_frame['Year'] == 2017, 'president'] = \"Donald Trump\"\n",
    "custom_frame.loc[custom_frame['Year'] == 2018, 'president'] = \"Donald Trump\"\n",
    "custom_frame.loc[custom_frame['Year'] == 2019, 'president'] = \"Donald Trump\"\n",
    "custom_frame.loc[custom_frame['Year'] == 2020, 'president'] = \"Donald Trump\""
   ]
  },
  {
   "cell_type": "code",
   "execution_count": 8,
   "metadata": {},
   "outputs": [],
   "source": [
    "custom_frame.to_csv(r'C:\\Users\\jafra\\OneDrive\\Desktop\\HW78\\unhcr-population-data-for-usa\\custom_frame.csv')"
   ]
  },
  {
   "cell_type": "code",
   "execution_count": 9,
   "metadata": {},
   "outputs": [
    {
     "data": {
      "text/html": [
       "\n",
       "<div id=\"altair-viz-a39dad304bc54d7981124b96c7050328\"></div>\n",
       "<script type=\"text/javascript\">\n",
       "  (function(spec, embedOpt){\n",
       "    let outputDiv = document.currentScript.previousElementSibling;\n",
       "    if (outputDiv.id !== \"altair-viz-a39dad304bc54d7981124b96c7050328\") {\n",
       "      outputDiv = document.getElementById(\"altair-viz-a39dad304bc54d7981124b96c7050328\");\n",
       "    }\n",
       "    const paths = {\n",
       "      \"vega\": \"https://cdn.jsdelivr.net/npm//vega@5?noext\",\n",
       "      \"vega-lib\": \"https://cdn.jsdelivr.net/npm//vega-lib?noext\",\n",
       "      \"vega-lite\": \"https://cdn.jsdelivr.net/npm//vega-lite@4.8.1?noext\",\n",
       "      \"vega-embed\": \"https://cdn.jsdelivr.net/npm//vega-embed@6?noext\",\n",
       "    };\n",
       "\n",
       "    function loadScript(lib) {\n",
       "      return new Promise(function(resolve, reject) {\n",
       "        var s = document.createElement('script');\n",
       "        s.src = paths[lib];\n",
       "        s.async = true;\n",
       "        s.onload = () => resolve(paths[lib]);\n",
       "        s.onerror = () => reject(`Error loading script: ${paths[lib]}`);\n",
       "        document.getElementsByTagName(\"head\")[0].appendChild(s);\n",
       "      });\n",
       "    }\n",
       "\n",
       "    function showError(err) {\n",
       "      outputDiv.innerHTML = `<div class=\"error\" style=\"color:red;\">${err}</div>`;\n",
       "      throw err;\n",
       "    }\n",
       "\n",
       "    function displayChart(vegaEmbed) {\n",
       "      vegaEmbed(outputDiv, spec, embedOpt)\n",
       "        .catch(err => showError(`Javascript Error: ${err.message}<br>This usually means there's a typo in your chart specification. See the javascript console for the full traceback.`));\n",
       "    }\n",
       "\n",
       "    if(typeof define === \"function\" && define.amd) {\n",
       "      requirejs.config({paths});\n",
       "      require([\"vega-embed\"], displayChart, err => showError(`Error loading script: ${err.message}`));\n",
       "    } else if (typeof vegaEmbed === \"function\") {\n",
       "      displayChart(vegaEmbed);\n",
       "    } else {\n",
       "      loadScript(\"vega\")\n",
       "        .then(() => loadScript(\"vega-lite\"))\n",
       "        .then(() => loadScript(\"vega-embed\"))\n",
       "        .catch(showError)\n",
       "        .then(() => displayChart(vegaEmbed));\n",
       "    }\n",
       "  })({\"config\": {\"view\": {\"continuousWidth\": 400, \"continuousHeight\": 300}}, \"layer\": [{\"mark\": \"line\"}, {\"mark\": \"line\", \"encoding\": {\"color\": {\"type\": \"nominal\", \"field\": \"good\"}}}], \"data\": {\"url\": \"https://cdn.jsdelivr.net/npm/vega-datasets@v1.29.0/data/stocks.csv\"}, \"encoding\": {\"x\": {\"type\": \"temporal\", \"field\": \"date\"}, \"y\": {\"type\": \"quantitative\", \"field\": \"price\", \"impute\": {\"value\": null}}}, \"transform\": [{\"filter\": \"datum.symbol===\\\"GOOG\\\"\"}, {\"calculate\": \"datum.price>400\", \"as\": \"good\"}], \"$schema\": \"https://vega.github.io/schema/vega-lite/v4.8.1.json\"}, {\"mode\": \"vega-lite\"});\n",
       "</script>"
      ],
      "text/plain": [
       "alt.LayerChart(...)"
      ]
     },
     "execution_count": 9,
     "metadata": {},
     "output_type": "execute_result"
    }
   ],
   "source": [
    "import altair as alt\n",
    "from vega_datasets import data\n",
    "\n",
    "alt.layer(\n",
    "    alt.Chart().mark_line(),\n",
    "    alt.Chart().mark_line().encode(color='good:N'),\n",
    "    data=data.stocks.url\n",
    ").transform_filter(\n",
    "    'datum.symbol===\"GOOG\"',\n",
    ").transform_calculate(\n",
    "    good=\"datum.price>400\"\n",
    ").encode(\n",
    "    x='date:T',\n",
    "    y=alt.Y('price:Q', impute={'value': None})\n",
    ")"
   ]
  },
  {
   "cell_type": "code",
   "execution_count": null,
   "metadata": {},
   "outputs": [],
   "source": []
  }
 ],
 "metadata": {
  "kernelspec": {
   "display_name": "Python 3",
   "language": "python",
   "name": "python3"
  },
  "language_info": {
   "codemirror_mode": {
    "name": "ipython",
    "version": 3
   },
   "file_extension": ".py",
   "mimetype": "text/x-python",
   "name": "python",
   "nbconvert_exporter": "python",
   "pygments_lexer": "ipython3",
   "version": "3.7.4"
  }
 },
 "nbformat": 4,
 "nbformat_minor": 2
}
